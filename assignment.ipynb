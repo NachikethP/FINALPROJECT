{
    "cells": [
        {
            "cell_type": "markdown",
            "metadata": {
                "collapsed": true
            },
            "source": "<h1>My Jupyter Notebook on IBM Watson Studio<h1>"
        },
        {
            "cell_type": "markdown",
            "metadata": {},
            "source": "<b>P NACHIKETH</b>\n<br>B.E. in Biotechnology"
        },
        {
            "cell_type": "markdown",
            "metadata": {},
            "source": "<i>I am interested in data science because it is the upcoming field that can change the way we can think about the future by analyzing data already available and i would love to apply these concepts in the field of biotechnology and make a breakthrough</i>"
        },
        {
            "cell_type": "markdown",
            "metadata": {},
            "source": "<h3>Print the sum of two numbers<h3>"
        },
        {
            "cell_type": "code",
            "execution_count": 18,
            "metadata": {},
            "outputs": [
                {
                    "name": "stdout",
                    "output_type": "stream",
                    "text": "500\n"
                }
            ],
            "source": "x=200\ny=300\nprint(x+y)"
        },
        {
            "cell_type": "markdown",
            "metadata": {},
            "source": "<blockquote>HI(blockquote)\n <ol>\n  <li>numbered list</li>\n  <li>I</li>\n  <li>am</li>\n  <li>trying</li>\n</ol> \n <ul>\n  <li>bulleted list</li>\n  <li>to</li>\n  <li>learn</li>\n  <li>DataScience</li>\n</ul> \n<a>https://www.google.com</a>\n<br>\n<h>google link above<h>"
        }
    ],
    "metadata": {
        "kernelspec": {
            "display_name": "Python 3.6",
            "language": "python",
            "name": "python3"
        },
        "language_info": {
            "codemirror_mode": {
                "name": "ipython",
                "version": 3
            },
            "file_extension": ".py",
            "mimetype": "text/x-python",
            "name": "python",
            "nbconvert_exporter": "python",
            "pygments_lexer": "ipython3",
            "version": "3.6.9"
        }
    },
    "nbformat": 4,
    "nbformat_minor": 1
}